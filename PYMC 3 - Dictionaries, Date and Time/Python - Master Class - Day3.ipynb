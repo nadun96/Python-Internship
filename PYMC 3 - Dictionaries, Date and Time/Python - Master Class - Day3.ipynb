{
 "cells": [
  {
   "cell_type": "code",
   "execution_count": 1,
   "id": "65f4a96f",
   "metadata": {},
   "outputs": [
    {
     "data": {
      "text/plain": [
       "7"
      ]
     },
     "execution_count": 1,
     "metadata": {},
     "output_type": "execute_result"
    }
   ],
   "source": [
    "len(\"summary\")"
   ]
  },
  {
   "cell_type": "code",
   "execution_count": 3,
   "id": "38091dc7",
   "metadata": {},
   "outputs": [
    {
     "data": {
      "text/plain": [
       "4"
      ]
     },
     "execution_count": 3,
     "metadata": {},
     "output_type": "execute_result"
    }
   ],
   "source": [
    "strt2 = \"parrot\"\n",
    "strt2.find(\"ot\")"
   ]
  },
  {
   "cell_type": "code",
   "execution_count": 6,
   "id": "4a60e6b2",
   "metadata": {},
   "outputs": [
    {
     "name": "stdout",
     "output_type": "stream",
     "text": [
      "isi\n",
      "ingsun\n",
      "Risi\n"
     ]
    }
   ],
   "source": [
    "sampstr = \"Risingsun\"\n",
    "print(sampstr[1:4])\n",
    "print(sampstr[3:])\n",
    "print(sampstr[:4])"
   ]
  },
  {
   "cell_type": "code",
   "execution_count": 7,
   "id": "1c4be4c2",
   "metadata": {},
   "outputs": [
    {
     "data": {
      "text/plain": [
       "'work work work until you succeed'"
      ]
     },
     "execution_count": 7,
     "metadata": {},
     "output_type": "execute_result"
    }
   ],
   "source": [
    "s1 = \"wait wait wait until you succeed\"\n",
    "s1.replace(\"wait\",\"work\")"
   ]
  },
  {
   "cell_type": "code",
   "execution_count": 8,
   "id": "3804981c",
   "metadata": {},
   "outputs": [
    {
     "data": {
      "text/plain": [
       "'CAPITAL'"
      ]
     },
     "execution_count": 8,
     "metadata": {},
     "output_type": "execute_result"
    }
   ],
   "source": [
    "\"capital\".upper()"
   ]
  },
  {
   "cell_type": "code",
   "execution_count": 9,
   "id": "3748011c",
   "metadata": {},
   "outputs": [
    {
     "data": {
      "text/plain": [
       "'power'"
      ]
     },
     "execution_count": 9,
     "metadata": {},
     "output_type": "execute_result"
    }
   ],
   "source": [
    "\"POWER\".lower()"
   ]
  },
  {
   "cell_type": "code",
   "execution_count": 10,
   "id": "71e4d266",
   "metadata": {},
   "outputs": [
    {
     "name": "stdout",
     "output_type": "stream",
     "text": [
      "x is medium\n"
     ]
    }
   ],
   "source": [
    "x = 90\n",
    "if(x>100):\n",
    "    print(\"x is big\")\n",
    "elif(x<10):\n",
    "    print(\"x is small\")\n",
    "else:\n",
    "    print(\"x is medium\")"
   ]
  },
  {
   "cell_type": "code",
   "execution_count": null,
   "id": "cb530968",
   "metadata": {},
   "outputs": [],
   "source": [
    "name = input(\"Enter your name\")\n",
    "if(name==\"Sam\"):\n",
    "    print(\"Welcome \",name)\n",
    "else:\n",
    "    print(\"Welcome Guest\")"
   ]
  },
  {
   "cell_type": "code",
   "execution_count": null,
   "id": "83216c27",
   "metadata": {},
   "outputs": [],
   "source": []
  },
  {
   "cell_type": "code",
   "execution_count": null,
   "id": "4b2a1449",
   "metadata": {},
   "outputs": [],
   "source": []
  }
 ],
 "metadata": {
  "kernelspec": {
   "display_name": "Python 3 (ipykernel)",
   "language": "python",
   "name": "python3"
  },
  "language_info": {
   "codemirror_mode": {
    "name": "ipython",
    "version": 3
   },
   "file_extension": ".py",
   "mimetype": "text/x-python",
   "name": "python",
   "nbconvert_exporter": "python",
   "pygments_lexer": "ipython3",
   "version": "3.9.7"
  }
 },
 "nbformat": 4,
 "nbformat_minor": 5
}
