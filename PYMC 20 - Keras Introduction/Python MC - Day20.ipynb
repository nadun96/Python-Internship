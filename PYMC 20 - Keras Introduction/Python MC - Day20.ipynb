{
 "cells": [
  {
   "cell_type": "code",
   "execution_count": 1,
   "id": "dd9db504",
   "metadata": {},
   "outputs": [],
   "source": [
    "import keras"
   ]
  },
  {
   "cell_type": "markdown",
   "id": "f41f173c",
   "metadata": {},
   "source": [
    "- Layers - require shape of inputs\n",
    "- initilaizer to set weight \n",
    "- activators to transform and make nn linear\n",
    "- constraints resticts   \n"
   ]
  },
  {
   "cell_type": "code",
   "execution_count": 2,
   "id": "c2748df8",
   "metadata": {},
   "outputs": [],
   "source": [
    "from keras.models import Sequential\n",
    "from keras.layers import Dense, Activation, Dropout\n",
    "from keras import initializers\n",
    "from keras import optimizers\n",
    "from keras import regularizers\n",
    "from keras import constraints"
   ]
  },
  {
   "cell_type": "markdown",
   "id": "3560b73a",
   "metadata": {},
   "source": [
    "# Dense Layers"
   ]
  },
  {
   "cell_type": "code",
   "execution_count": 9,
   "id": "e564f70f",
   "metadata": {},
   "outputs": [],
   "source": [
    "model=Sequential()\n",
    "model.add(Dense(32,input_shape=(16,), kernel_initializer='he_uniform', kernel_regularizer=None, kernel_constraint='MaxNorm',activation='relu'))\n",
    "model.add(Dense(16,activation='relu'))\n",
    "model.add(Dense(8))"
   ]
  },
  {
   "cell_type": "markdown",
   "id": "2748fa7a",
   "metadata": {},
   "source": [
    "# Initializers"
   ]
  },
  {
   "cell_type": "code",
   "execution_count": 10,
   "id": "609019ea",
   "metadata": {},
   "outputs": [
    {
     "name": "stderr",
     "output_type": "stream",
     "text": [
      "C:\\Users\\udaraka\\AppData\\Roaming\\Python\\Python311\\site-packages\\keras\\src\\layers\\core\\dense.py:87: UserWarning: Do not pass an `input_shape`/`input_dim` argument to a layer. When using Sequential models, prefer using an `Input(shape)` object as the first layer in the model instead.\n",
      "  super().__init__(activity_regularizer=activity_regularizer, **kwargs)\n"
     ]
    }
   ],
   "source": [
    "my_init = initializers.Zeros()\n",
    "model = Sequential()\n",
    "model.add(Dense(512, activation='relu', input_shape=(784,), kernel_initializer=my_init))"
   ]
  },
  {
   "cell_type": "markdown",
   "id": "6e8b8ca9",
   "metadata": {},
   "source": [
    "# Constraints"
   ]
  },
  {
   "cell_type": "code",
   "execution_count": 11,
   "id": "e1f2aad8",
   "metadata": {},
   "outputs": [
    {
     "name": "stderr",
     "output_type": "stream",
     "text": [
      "C:\\Users\\udaraka\\AppData\\Roaming\\Python\\Python311\\site-packages\\keras\\src\\layers\\core\\dense.py:87: UserWarning: Do not pass an `input_shape`/`input_dim` argument to a layer. When using Sequential models, prefer using an `Input(shape)` object as the first layer in the model instead.\n",
      "  super().__init__(activity_regularizer=activity_regularizer, **kwargs)\n"
     ]
    }
   ],
   "source": [
    "\n",
    "my_constraint = constraints.UnitNorm(axis=0)\n",
    "model = Sequential()\n",
    "model.add(Dense(512, activation='relu', input_shape=(784,), kernel_initializer='he_uniform', kernel_constraint=my_constraint))"
   ]
  },
  {
   "cell_type": "markdown",
   "id": "9ac97dbf",
   "metadata": {},
   "source": [
    "# Regulerizers"
   ]
  },
  {
   "cell_type": "code",
   "execution_count": 12,
   "id": "3d3a1c8e",
   "metadata": {},
   "outputs": [
    {
     "name": "stderr",
     "output_type": "stream",
     "text": [
      "C:\\Users\\udaraka\\AppData\\Roaming\\Python\\Python311\\site-packages\\keras\\src\\layers\\core\\dense.py:87: UserWarning: Do not pass an `input_shape`/`input_dim` argument to a layer. When using Sequential models, prefer using an `Input(shape)` object as the first layer in the model instead.\n",
      "  super().__init__(activity_regularizer=activity_regularizer, **kwargs)\n"
     ]
    }
   ],
   "source": [
    "my_regularizer = regularizers.l1(0.01)\n",
    "\n",
    "model = Sequential()\n",
    "\n",
    "model.add(Dense(512, activation='relu', input_shape=(784,), kernel_initializer='he_uniform', kernel_regularizer=my_regularizer))"
   ]
  }
 ],
 "metadata": {
  "kernelspec": {
   "display_name": "Python 3 (ipykernel)",
   "language": "python",
   "name": "python3"
  },
  "language_info": {
   "codemirror_mode": {
    "name": "ipython",
    "version": 3
   },
   "file_extension": ".py",
   "mimetype": "text/x-python",
   "name": "python",
   "nbconvert_exporter": "python",
   "pygments_lexer": "ipython3",
   "version": "3.11.7"
  }
 },
 "nbformat": 4,
 "nbformat_minor": 5
}
