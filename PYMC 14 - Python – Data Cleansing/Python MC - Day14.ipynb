{
 "cells": [
  {
   "cell_type": "code",
   "execution_count": 1,
   "id": "5e9ced89",
   "metadata": {},
   "outputs": [
    {
     "name": "stdout",
     "output_type": "stream",
     "text": [
      "        one       two     three\n",
      "a -0.132694 -0.312568  0.781914\n",
      "b       NaN       NaN       NaN\n",
      "c  0.066570 -0.717256 -0.016110\n",
      "d       NaN       NaN       NaN\n",
      "e -0.979859 -2.264545  0.695050\n",
      "f  2.298336 -0.568774  0.998907\n",
      "g       NaN       NaN       NaN\n",
      "h -1.845971  0.732054 -0.505492\n"
     ]
    }
   ],
   "source": [
    "# import the pandas library \n",
    "import pandas as pd\n",
    "import numpy as np \n",
    "df = pd.DataFrame(np.random.randn(5, 3), index=['a', 'c', 'e', 'f', 'h'],columns=['one', 'two', 'three']) \n",
    "df = df.reindex(['a', 'b', 'c', 'd', 'e', 'f', 'g', 'h']) \n",
    "print(df)\n"
   ]
  },
  {
   "cell_type": "code",
   "execution_count": 3,
   "id": "9df6c571",
   "metadata": {},
   "outputs": [
    {
     "name": "stdout",
     "output_type": "stream",
     "text": [
      "a    False\n",
      "b     True\n",
      "c    False\n",
      "d     True\n",
      "e    False\n",
      "f    False\n",
      "g     True\n",
      "h    False\n",
      "Name: two, dtype: bool\n"
     ]
    }
   ],
   "source": [
    "import pandas as pd \n",
    "import numpy as np \n",
    "df = pd.DataFrame(np.random.randn(5, 3), index=['a', 'c', 'e', 'f', 'h'],columns=['one', 'two', 'three']) \n",
    "df = df.reindex(['a', 'b', 'c', 'd', 'e', 'f', 'g', 'h'])\n",
    "print(df['two'].isnull())\n"
   ]
  },
  {
   "cell_type": "code",
   "execution_count": 4,
   "id": "f51667a5",
   "metadata": {},
   "outputs": [
    {
     "name": "stdout",
     "output_type": "stream",
     "text": [
      "        one       two     three\n",
      "a  0.173260  0.678156  0.875902\n",
      "b       NaN       NaN       NaN\n",
      "c  0.615721  0.493437  0.457533\n",
      "NaN replaced with '0':\n",
      "        one       two     three\n",
      "a  0.173260  0.678156  0.875902\n",
      "b  0.000000  0.000000  0.000000\n",
      "c  0.615721  0.493437  0.457533\n"
     ]
    }
   ],
   "source": [
    "import pandas as pd \n",
    "import numpy as np\n",
    "df = pd.DataFrame(np.random.randn(3, 3), index=['a', 'c', 'e'],columns=['one', 'two', 'three']) \n",
    "df = df.reindex(['a', 'b', 'c']) \n",
    "print (df )\n",
    "print (\"NaN replaced with '0':\") \n",
    "print (df.fillna(0))\n"
   ]
  },
  {
   "cell_type": "code",
   "execution_count": 5,
   "id": "44ca224a",
   "metadata": {},
   "outputs": [
    {
     "name": "stdout",
     "output_type": "stream",
     "text": [
      "        one       two     three\n",
      "a  1.034269  2.006371 -0.646715\n",
      "b  1.034269  2.006371 -0.646715\n",
      "c  0.141393 -0.141269  0.218347\n",
      "d  0.141393 -0.141269  0.218347\n",
      "e -1.298608 -0.460768 -0.042065\n",
      "f -0.312466  0.205889 -0.586632\n",
      "g -0.312466  0.205889 -0.586632\n",
      "h -0.122360 -1.271827 -0.963264\n"
     ]
    }
   ],
   "source": [
    "import pandas as pd \n",
    "import numpy as np \n",
    "df = pd.DataFrame(np.random.randn(5, 3), index=['a', 'c', 'e', 'f', 'h'],columns=['one', 'two', 'three']) \n",
    "df = df.reindex(['a', 'b', 'c', 'd', 'e', 'f', 'g', 'h']) \n",
    "print(df.fillna(method='pad'))\n"
   ]
  },
  {
   "cell_type": "code",
   "execution_count": 6,
   "id": "c858d7b6",
   "metadata": {},
   "outputs": [
    {
     "name": "stdout",
     "output_type": "stream",
     "text": [
      "        one       two     three\n",
      "a  0.307863  0.498668 -1.146989\n",
      "c  0.987483 -1.647703 -1.189514\n",
      "e -0.702947  0.159152  0.751841\n",
      "f  0.524662  1.610571  1.913441\n",
      "h -0.071093 -1.643387 -3.153147\n"
     ]
    }
   ],
   "source": [
    "import pandas as pd \n",
    "import numpy as np \n",
    "df = pd.DataFrame(np.random.randn(5, 3), index=['a', 'c', 'e', 'f', 'h'],columns=['one', 'two', 'three']) \n",
    "df = df.reindex(['a', 'b', 'c', 'd', 'e', 'f', 'g', 'h']) \n",
    "print(df.dropna())\n"
   ]
  },
  {
   "cell_type": "code",
   "execution_count": null,
   "id": "a40b4210",
   "metadata": {},
   "outputs": [],
   "source": []
  }
 ],
 "metadata": {
  "kernelspec": {
   "display_name": "Python 3 (ipykernel)",
   "language": "python",
   "name": "python3"
  },
  "language_info": {
   "codemirror_mode": {
    "name": "ipython",
    "version": 3
   },
   "file_extension": ".py",
   "mimetype": "text/x-python",
   "name": "python",
   "nbconvert_exporter": "python",
   "pygments_lexer": "ipython3",
   "version": "3.9.7"
  }
 },
 "nbformat": 4,
 "nbformat_minor": 5
}
