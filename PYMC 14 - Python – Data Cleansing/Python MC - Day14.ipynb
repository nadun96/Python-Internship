{
 "cells": [
  {
   "cell_type": "code",
   "execution_count": 1,
   "id": "5e9ced89",
   "metadata": {},
   "outputs": [
    {
     "name": "stdout",
     "output_type": "stream",
     "text": [
      "        one       two     three\n",
      "a  0.163544  0.663289  0.077292\n",
      "b       NaN       NaN       NaN\n",
      "c  0.706453  0.616742 -0.607153\n",
      "d       NaN       NaN       NaN\n",
      "e -0.379736 -0.530308 -0.491888\n",
      "f -0.808676 -0.003278 -0.989652\n",
      "g       NaN       NaN       NaN\n",
      "h  0.529459 -0.114413 -0.019536\n"
     ]
    }
   ],
   "source": [
    "# import the pandas library \n",
    "import pandas as pd\n",
    "import numpy as np \n",
    "df = pd.DataFrame(np.random.randn(5, 3), index=['a', 'c', 'e', 'f', 'h'],columns=['one', 'two', 'three']) \n",
    "df = df.reindex(['a', 'b', 'c', 'd', 'e', 'f', 'g', 'h']) \n",
    "print(df)\n"
   ]
  },
  {
   "cell_type": "code",
   "execution_count": 1,
   "id": "9df6c571",
   "metadata": {},
   "outputs": [
    {
     "name": "stdout",
     "output_type": "stream",
     "text": [
      "a    False\n",
      "b     True\n",
      "c    False\n",
      "d     True\n",
      "e    False\n",
      "f    False\n",
      "g     True\n",
      "h    False\n",
      "Name: two, dtype: bool\n"
     ]
    }
   ],
   "source": [
    "import pandas as pd \n",
    "import numpy as np \n",
    "df = pd.DataFrame(np.random.randn(5, 3), index=['a', 'c', 'e', 'f', 'h'],columns=['one', 'two', 'three']) \n",
    "df = df.reindex(['a', 'b', 'c', 'd', 'e', 'f', 'g', 'h'])\n",
    "print(df['two'].isnull())\n"
   ]
  },
  {
   "cell_type": "code",
   "execution_count": 8,
   "id": "f51667a5",
   "metadata": {},
   "outputs": [
    {
     "name": "stdout",
     "output_type": "stream",
     "text": [
      "        one       two     three\n",
      "a  0.917935  1.159704 -1.287493\n",
      "b       NaN       NaN       NaN\n",
      "c  0.824697  1.336902 -0.172596\n",
      "Index(['one', 'two', 'three'], dtype='object')\n",
      "None\n",
      "None\n",
      "None\n"
     ]
    },
    {
     "data": {
      "text/html": [
       "<div>\n",
       "<style scoped>\n",
       "    .dataframe tbody tr th:only-of-type {\n",
       "        vertical-align: middle;\n",
       "    }\n",
       "\n",
       "    .dataframe tbody tr th {\n",
       "        vertical-align: top;\n",
       "    }\n",
       "\n",
       "    .dataframe thead th {\n",
       "        text-align: right;\n",
       "    }\n",
       "</style>\n",
       "<table border=\"1\" class=\"dataframe\">\n",
       "  <thead>\n",
       "    <tr style=\"text-align: right;\">\n",
       "      <th></th>\n",
       "      <th>one</th>\n",
       "      <th>two</th>\n",
       "      <th>three</th>\n",
       "    </tr>\n",
       "  </thead>\n",
       "  <tbody>\n",
       "    <tr>\n",
       "      <th>a</th>\n",
       "      <td>0.917935</td>\n",
       "      <td>1.159704</td>\n",
       "      <td>-1.287493</td>\n",
       "    </tr>\n",
       "    <tr>\n",
       "      <th>b</th>\n",
       "      <td>0.871316</td>\n",
       "      <td>1.248303</td>\n",
       "      <td>-0.730045</td>\n",
       "    </tr>\n",
       "    <tr>\n",
       "      <th>c</th>\n",
       "      <td>0.824697</td>\n",
       "      <td>1.336902</td>\n",
       "      <td>-0.172596</td>\n",
       "    </tr>\n",
       "  </tbody>\n",
       "</table>\n",
       "</div>"
      ],
      "text/plain": [
       "        one       two     three\n",
       "a  0.917935  1.159704 -1.287493\n",
       "b  0.871316  1.248303 -0.730045\n",
       "c  0.824697  1.336902 -0.172596"
      ]
     },
     "execution_count": 8,
     "metadata": {},
     "output_type": "execute_result"
    }
   ],
   "source": [
    "import pandas as pd \n",
    "import numpy as np\n",
    "df = pd.DataFrame(np.random.randn(3, 3), index=['a', 'c', 'e'],columns=['one', 'two', 'three']) \n",
    "df = df.reindex(['a', 'b', 'c']) \n",
    "print(df)\n",
    "# print(df.columns)\n",
    "for col in df.columns:\n",
    "    print (df[col].fillna(np.mean(df[col]), inplace=True))\n",
    "# print (\"NaN replaced with '0':\")\n",
    "# print(df.fillna(np.mean(df)))\n",
    "df\n",
    "# print (df.fillna(0))\n"
   ]
  },
  {
   "cell_type": "code",
   "execution_count": 3,
   "id": "44ca224a",
   "metadata": {},
   "outputs": [
    {
     "name": "stdout",
     "output_type": "stream",
     "text": [
      "        one       two     three\n",
      "a  0.280968  0.340048 -0.058734\n",
      "b  0.280968  0.340048 -0.058734\n",
      "c -0.364910  0.795147  1.033616\n",
      "d -0.364910  0.795147  1.033616\n",
      "e -0.555440 -0.065332  0.512179\n",
      "f  0.544163  1.524583  0.558144\n",
      "g  0.544163  1.524583  0.558144\n",
      "h  1.977591 -1.261935  0.132281\n"
     ]
    },
    {
     "name": "stderr",
     "output_type": "stream",
     "text": [
      "C:\\Users\\udaraka\\AppData\\Local\\Temp\\ipykernel_6684\\3777768052.py:5: FutureWarning: DataFrame.fillna with 'method' is deprecated and will raise in a future version. Use obj.ffill() or obj.bfill() instead.\n",
      "  print(df.fillna(method='pad'))\n"
     ]
    }
   ],
   "source": [
    "import pandas as pd \n",
    "import numpy as np \n",
    "df = pd.DataFrame(np.random.randn(5, 3), index=['a', 'c', 'e', 'f', 'h'],columns=['one', 'two', 'three']) \n",
    "df = df.reindex(['a', 'b', 'c', 'd', 'e', 'f', 'g', 'h']) \n",
    "print(df.fillna(method='pad'))\n"
   ]
  },
  {
   "cell_type": "code",
   "execution_count": 4,
   "id": "c858d7b6",
   "metadata": {},
   "outputs": [
    {
     "name": "stdout",
     "output_type": "stream",
     "text": [
      "        one       two     three\n",
      "a -0.666931  0.035485  1.408556\n",
      "c  2.411598  0.637778  0.009403\n",
      "e -2.579787  1.065795  1.133203\n",
      "f  0.758449  0.896296  0.965480\n",
      "h  0.406850  0.551284  0.719214\n"
     ]
    }
   ],
   "source": [
    "import pandas as pd \n",
    "import numpy as np \n",
    "df = pd.DataFrame(np.random.randn(5, 3), index=['a', 'c', 'e', 'f', 'h'],columns=['one', 'two', 'three']) \n",
    "df = df.reindex(['a', 'b', 'c', 'd', 'e', 'f', 'g', 'h']) \n",
    "print(df.dropna())\n"
   ]
  }
 ],
 "metadata": {
  "kernelspec": {
   "display_name": "Python 3 (ipykernel)",
   "language": "python",
   "name": "python3"
  },
  "language_info": {
   "codemirror_mode": {
    "name": "ipython",
    "version": 3
   },
   "file_extension": ".py",
   "mimetype": "text/x-python",
   "name": "python",
   "nbconvert_exporter": "python",
   "pygments_lexer": "ipython3",
   "version": "3.11.7"
  }
 },
 "nbformat": 4,
 "nbformat_minor": 5
}
