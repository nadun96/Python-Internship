{
 "cells": [
  {
   "cell_type": "code",
   "execution_count": 1,
   "id": "114b71ef",
   "metadata": {},
   "outputs": [
    {
     "name": "stdout",
     "output_type": "stream",
     "text": [
      "0\n",
      "1\n",
      "2\n",
      "3\n",
      "4\n",
      "5\n",
      "6\n",
      "7\n",
      "8\n",
      "9\n",
      "10\n"
     ]
    }
   ],
   "source": [
    "def count_to_10():\n",
    "    for i in range(11):\n",
    "        print(i)\n",
    "count_to_10()"
   ]
  },
  {
   "cell_type": "code",
   "execution_count": 4,
   "id": "2bfc906b",
   "metadata": {},
   "outputs": [
    {
     "name": "stdout",
     "output_type": "stream",
     "text": [
      "dict['Name']:  Zara\n",
      "dict['Class']:  First\n"
     ]
    }
   ],
   "source": [
    "dict = {'Name': 'Zara', 'Age': 7, 'Class': 'First'}\n",
    "print (\"dict['Name']: \", dict['Name'])\n",
    "print( \"dict['Class']: \", dict['Class'])\n"
   ]
  },
  {
   "cell_type": "code",
   "execution_count": 6,
   "id": "2e7e14f1",
   "metadata": {},
   "outputs": [
    {
     "name": "stdout",
     "output_type": "stream",
     "text": [
      "ABCSchool\n"
     ]
    }
   ],
   "source": [
    "dict1 = {'Name':'Sam','Age':8,'Class':'First'}\n",
    "dict1['Age']=9\n",
    "dict1['School']='ABCSchool'\n",
    "print(dict1['School'])"
   ]
  },
  {
   "cell_type": "code",
   "execution_count": 7,
   "id": "2569a854",
   "metadata": {},
   "outputs": [
    {
     "name": "stdout",
     "output_type": "stream",
     "text": [
      "dict['Age']:  dict['Age']\n",
      "dict['School']:  dict['School']\n"
     ]
    }
   ],
   "source": [
    "dict = {'Name': 'Zara', 'Age': 7, 'Class': 'First'} \n",
    "del dict['Name']; # remove entry with key 'Name' \n",
    "dict.clear(); # remove all entries in dict \n",
    "del dict ; # delete entire dictionary \n",
    "print (\"dict['Age']: \", dict['Age'] )\n",
    "print (\"dict['School']: \", dict['School'])\n"
   ]
  },
  {
   "cell_type": "code",
   "execution_count": 8,
   "id": "71ef4d6d",
   "metadata": {},
   "outputs": [
    {
     "name": "stdout",
     "output_type": "stream",
     "text": [
      "The Date Today is : 2022-03-03 18:24:12.981607\n",
      "2022-03-03\n",
      "This Year : 2022\n",
      "This Month : 3\n",
      "Month Name: March\n",
      "This Week Day : 3\n",
      "Week Day Name: Thursday\n"
     ]
    }
   ],
   "source": [
    "import datetime\n",
    "print ('The Date Today is :', datetime.datetime.today())\n",
    "date_today = datetime.date.today() \n",
    "print (date_today) \n",
    "print ('This Year :', date_today.year) \n",
    "print ('This Month :', date_today.month) \n",
    "print ('Month Name:',date_today.strftime('%B')) \n",
    "print ('This Week Day :', date_today.day) \n",
    "print ('Week Day Name:',date_today.strftime('%A'))\n"
   ]
  },
  {
   "cell_type": "code",
   "execution_count": 9,
   "id": "81e266ab",
   "metadata": {},
   "outputs": [
    {
     "name": "stdout",
     "output_type": "stream",
     "text": [
      "day1: Mon Feb 12 00:00:00 2018\n",
      "day2: Fri Aug 18 00:00:00 2017\n",
      "Number of Days: 178 days, 0:00:00\n",
      "Before Four Days: 2022-02-27\n",
      "After Four Days: 2022-03-07\n"
     ]
    }
   ],
   "source": [
    "import datetime \n",
    "#Capture the First Date \n",
    "day1 = datetime.date(2018, 2, 12) \n",
    "print ('day1:', day1.ctime()) \n",
    "# Capture the Second Date\n",
    "day2 = datetime.date(2017, 8, 18) \n",
    "print ('day2:', day2.ctime())\n",
    "# Find the difference between the dates\n",
    "print ('Number of Days:', day1-day2)\n",
    "date_today = datetime.date.today() \n",
    "# Create a delta of Four Days \n",
    "no_of_days = datetime.timedelta(days=4) \n",
    "# Use Delta for Past Date\n",
    "before_four_days = date_today - no_of_days \n",
    "print ('Before Four Days:', before_four_days )\n",
    "# Use Delta for future Date \n",
    "after_four_days = date_today + no_of_days \n",
    "print ('After Four Days:', after_four_days )"
   ]
  },
  {
   "cell_type": "code",
   "execution_count": 10,
   "id": "fcedd33e",
   "metadata": {},
   "outputs": [
    {
     "name": "stdout",
     "output_type": "stream",
     "text": [
      "Today is:  2022-03-03\n",
      "Before Four Days: 2022-02-27\n",
      "date1: 2018-04-04\n",
      "Past Date\n",
      "Future Date\n"
     ]
    }
   ],
   "source": [
    "import datetime \n",
    "date_today = datetime.date.today() \n",
    "print ('Today is: ', date_today) \n",
    "# Create a delta of Four Days \n",
    "no_of_days = datetime.timedelta(days=4) \n",
    "# Use Delta for Past Date \n",
    "before_four_days = date_today - no_of_days \n",
    "print ('Before Four Days:', before_four_days) \n",
    "after_four_days = date_today + no_of_days \n",
    "date1 = datetime.date(2018,4,4)\n",
    "print ('date1:',date1) \n",
    "if (date1 == before_four_days): \n",
    "     print ('Same Dates') \n",
    "if (date_today > date1): \n",
    "     print ('Past Date') \n",
    "if (date1 < after_four_days): \n",
    "     print ('Future Date')\n"
   ]
  },
  {
   "cell_type": "code",
   "execution_count": null,
   "id": "8646e92a",
   "metadata": {},
   "outputs": [],
   "source": []
  }
 ],
 "metadata": {
  "kernelspec": {
   "display_name": "Python 3 (ipykernel)",
   "language": "python",
   "name": "python3"
  },
  "language_info": {
   "codemirror_mode": {
    "name": "ipython",
    "version": 3
   },
   "file_extension": ".py",
   "mimetype": "text/x-python",
   "name": "python",
   "nbconvert_exporter": "python",
   "pygments_lexer": "ipython3",
   "version": "3.9.7"
  }
 },
 "nbformat": 4,
 "nbformat_minor": 5
}
