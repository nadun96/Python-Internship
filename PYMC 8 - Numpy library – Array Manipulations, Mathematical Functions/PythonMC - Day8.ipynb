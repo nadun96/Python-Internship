{
 "cells": [
  {
   "cell_type": "code",
   "execution_count": 1,
   "id": "83dbcab5",
   "metadata": {},
   "outputs": [
    {
     "name": "stdout",
     "output_type": "stream",
     "text": [
      "1\n"
     ]
    }
   ],
   "source": [
    "import numpy as np\n",
    "sd = np.array([1,2,3,4],dtype=np.int8)\n",
    "print(sd.itemsize)"
   ]
  },
  {
   "cell_type": "code",
   "execution_count": 3,
   "id": "ac4c5d39",
   "metadata": {},
   "outputs": [
    {
     "name": "stdout",
     "output_type": "stream",
     "text": [
      "[1 2 3]\n"
     ]
    }
   ],
   "source": [
    "import numpy as np\n",
    "l1 = [1,2,3]\n",
    "x = np.asarray(l1)\n",
    "print(x)"
   ]
  },
  {
   "cell_type": "code",
   "execution_count": 11,
   "id": "c81faaff",
   "metadata": {},
   "outputs": [
    {
     "name": "stdout",
     "output_type": "stream",
     "text": [
      "[1 3 5 7]\n"
     ]
    }
   ],
   "source": [
    "import numpy as np\n",
    "a = np.arange(10)\n",
    "s = slice(1,8,2)\n",
    "b = a[s]\n",
    "print(b)"
   ]
  },
  {
   "cell_type": "code",
   "execution_count": 6,
   "id": "6c97fce1",
   "metadata": {},
   "outputs": [
    {
     "name": "stdout",
     "output_type": "stream",
     "text": [
      "[2 4 6]\n"
     ]
    }
   ],
   "source": [
    "import numpy as np\n",
    "jk = np.arange(10)\n",
    "kl = jk[2:7:2]\n",
    "print(kl)"
   ]
  },
  {
   "cell_type": "code",
   "execution_count": 7,
   "id": "6af6e245",
   "metadata": {},
   "outputs": [
    {
     "name": "stdout",
     "output_type": "stream",
     "text": [
      "Original array is:\n",
      "[[ 0  5 10 15]\n",
      " [20 25 30 35]\n",
      " [40 45 50 55]]\n",
      "\n",
      "\n",
      "Modified array is:\n",
      "0\n",
      "5\n",
      "10\n",
      "15\n",
      "20\n",
      "25\n",
      "30\n",
      "35\n",
      "40\n",
      "45\n",
      "50\n",
      "55\n"
     ]
    }
   ],
   "source": [
    "import numpy as np \n",
    "a = np.arange(0,60,5) \n",
    "a = a.reshape(3,4) \n",
    "print('Original array is:') \n",
    "print(a)\n",
    "print('\\n') \n",
    "print('Modified array is:') \n",
    "for x in np.nditer(a):\n",
    "    print(x)"
   ]
  },
  {
   "cell_type": "code",
   "execution_count": 8,
   "id": "ba3197ff",
   "metadata": {},
   "outputs": [
    {
     "name": "stdout",
     "output_type": "stream",
     "text": [
      "Array containing sine values:\n",
      "[0.         0.5        0.70710678 0.8660254  1.        ]\n",
      "\n",
      "\n",
      "Compute sine inverse of angles. Returned values are in radians.\n",
      "[0.         0.52359878 0.78539816 1.04719755 1.57079633]\n",
      "\n",
      "\n",
      "Check result by converting to degrees:\n",
      "[ 0. 30. 45. 60. 90.]\n",
      "\n",
      "\n",
      "arccos and arctan functions behave similarly:\n",
      "[1.00000000e+00 8.66025404e-01 7.07106781e-01 5.00000000e-01\n",
      " 6.12323400e-17]\n",
      "\n",
      "\n",
      "Inverse of cos:\n",
      "[0.         0.52359878 0.78539816 1.04719755 1.57079633]\n",
      "\n",
      "\n",
      "In degrees:\n",
      "[ 0. 30. 45. 60. 90.]\n",
      "\n",
      "\n",
      "Tan function:\n",
      "[0.00000000e+00 5.77350269e-01 1.00000000e+00 1.73205081e+00\n",
      " 1.63312394e+16]\n",
      "\n",
      "\n",
      "Inverse of tan:\n",
      "[0.         0.52359878 0.78539816 1.04719755 1.57079633]\n",
      "\n",
      "\n",
      "In degrees:\n",
      "[ 0. 30. 45. 60. 90.]\n"
     ]
    }
   ],
   "source": [
    "import numpy as np \n",
    "a = np.array([0,30,45,60,90]) \n",
    "print('Array containing sine values:') \n",
    "sin = np.sin(a*np.pi/180) \n",
    "print(sin) \n",
    "print('\\n') \n",
    "print('Compute sine inverse of angles. Returned values are in radians.')\n",
    "inv = np.arcsin(sin) \n",
    "print(inv)\n",
    "print('\\n')\n",
    "print('Check result by converting to degrees:')\n",
    "print(np.degrees(inv))\n",
    "print('\\n')\n",
    "print('arccos and arctan functions behave similarly:')\n",
    "cos = np.cos(a*np.pi/180) \n",
    "print(cos) \n",
    "print('\\n')\n",
    "print('Inverse of cos:')\n",
    "inv = np.arccos(cos)\n",
    "print(inv)\n",
    "print('\\n')\n",
    "print('In degrees:') \n",
    "print(np.degrees(inv))\n",
    "print('\\n') \n",
    "print('Tan function:')\n",
    "tan = np.tan(a*np.pi/180) \n",
    "print(tan)\n",
    "print('\\n') \n",
    "print('Inverse of tan:') \n",
    "inv = np.arctan(tan) \n",
    "print(inv)\n",
    "print('\\n') \n",
    "print('In degrees:')\n",
    "print(np.degrees(inv))\n"
   ]
  },
  {
   "cell_type": "code",
   "execution_count": 10,
   "id": "a9ce59f4",
   "metadata": {},
   "outputs": [
    {
     "name": "stdout",
     "output_type": "stream",
     "text": [
      "Original array:\n",
      "[  1.      5.55  123.      0.567  25.532]\n",
      "\n",
      "\n",
      "After rounding:\n",
      "[  1.   6. 123.   1.  26.]\n",
      "[  1.     5.55 123.     0.57  25.53]\n"
     ]
    }
   ],
   "source": [
    "import numpy as np\n",
    "a = np.array([1.0,5.55, 123, 0.567, 25.532]) \n",
    "print('Original array:') \n",
    "print(a) \n",
    "print('\\n') \n",
    "print('After rounding:') \n",
    "print(np.around(a)) \n",
    "print(np.around(a, decimals = 2)) \n"
   ]
  },
  {
   "cell_type": "code",
   "execution_count": null,
   "id": "ee19b2f5",
   "metadata": {},
   "outputs": [],
   "source": []
  }
 ],
 "metadata": {
  "kernelspec": {
   "display_name": "Python 3 (ipykernel)",
   "language": "python",
   "name": "python3"
  },
  "language_info": {
   "codemirror_mode": {
    "name": "ipython",
    "version": 3
   },
   "file_extension": ".py",
   "mimetype": "text/x-python",
   "name": "python",
   "nbconvert_exporter": "python",
   "pygments_lexer": "ipython3",
   "version": "3.9.7"
  }
 },
 "nbformat": 4,
 "nbformat_minor": 5
}
