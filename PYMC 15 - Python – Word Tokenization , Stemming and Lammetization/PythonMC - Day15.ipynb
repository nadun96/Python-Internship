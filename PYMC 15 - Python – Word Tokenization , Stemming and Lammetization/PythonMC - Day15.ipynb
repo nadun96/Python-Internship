{
 "cells": [
  {
   "cell_type": "code",
   "execution_count": 1,
   "id": "c91fef0c",
   "metadata": {},
   "outputs": [
    {
     "name": "stdout",
     "output_type": "stream",
     "text": [
      "   id    Name subject_id\n",
      "0   1    Alex       sub1\n",
      "1   2     Amy       sub2\n",
      "2   3   Allen       sub4\n",
      "3   4   Alice       sub6\n",
      "4   5  Ayoung       sub5\n",
      "   id   Name subject_id\n",
      "0   1  Billy       sub2\n",
      "1   2  Brian       sub4\n",
      "2   3   Bran       sub3\n",
      "3   4  Bryce       sub6\n",
      "4   5  Betty       sub5\n"
     ]
    },
    {
     "data": {
      "text/html": [
       "<div>\n",
       "<style scoped>\n",
       "    .dataframe tbody tr th:only-of-type {\n",
       "        vertical-align: middle;\n",
       "    }\n",
       "\n",
       "    .dataframe tbody tr th {\n",
       "        vertical-align: top;\n",
       "    }\n",
       "\n",
       "    .dataframe thead th {\n",
       "        text-align: right;\n",
       "    }\n",
       "</style>\n",
       "<table border=\"1\" class=\"dataframe\">\n",
       "  <thead>\n",
       "    <tr style=\"text-align: right;\">\n",
       "      <th></th>\n",
       "      <th>id</th>\n",
       "      <th>Name</th>\n",
       "      <th>subject_id</th>\n",
       "    </tr>\n",
       "  </thead>\n",
       "  <tbody>\n",
       "  </tbody>\n",
       "</table>\n",
       "</div>"
      ],
      "text/plain": [
       "Empty DataFrame\n",
       "Columns: [id, Name, subject_id]\n",
       "Index: []"
      ]
     },
     "execution_count": 1,
     "metadata": {},
     "output_type": "execute_result"
    }
   ],
   "source": [
    "import pandas as pd \n",
    "left = pd.DataFrame({ \n",
    "               'id':[1,2,3,4,5], \n",
    "               'Name': ['Alex', 'Amy', 'Allen', 'Alice', 'Ayoung'], 'subject_id':['sub1','sub2','sub4','sub6','sub5']}) \n",
    "right = pd.DataFrame( \n",
    "             {'id':[1,2,3,4,5], \n",
    "              'Name': ['Billy', 'Brian', 'Bran', 'Bryce', 'Betty'],'subject_id':['sub2','sub4','sub3','sub6','sub5']})\n",
    "print(left) \n",
    "print(right)\n",
    "pd.merge(left, right, how='inner', on=None, left_on=None, right_on=None, left_index=False, right_index=False, sort=True)\n",
    "\n"
   ]
  },
  {
   "cell_type": "code",
   "execution_count": 4,
   "id": "9522ef03",
   "metadata": {},
   "outputs": [
    {
     "name": "stdout",
     "output_type": "stream",
     "text": [
      "     Team  Rank  Year  Points\n",
      "0  Riders     1  2014     876\n",
      "2  Devils     2  2014     863\n",
      "4   Kings     3  2014     741\n",
      "9  Royals     4  2014     701\n"
     ]
    }
   ],
   "source": [
    "# import the pandas library \n",
    "import pandas as pd \n",
    "ipl_data = {'Team': ['Riders', 'Riders', 'Devils', 'Devils', 'Kings', \n",
    "                  'kings', 'Kings', 'Kings', 'Riders', 'Royals', 'Royals', 'Riders'],                                                                                                         'Rank': [1, 2, 2, 3, 3,4 ,1 ,1,2 , 4,1,2], \n",
    "     'Year': [2014,2015,2014,2015,2014,2015,2016,2017,2016,2014,2015,2017],       'Points':[876,789,863,673,741,812,756,788,694,701,804,690]} \n",
    "df = pd.DataFrame(ipl_data) \n",
    "grouped = df.groupby('Year') \n",
    "print (grouped.get_group(2014))\n"
   ]
  },
  {
   "cell_type": "code",
   "execution_count": 7,
   "id": "c5624df2",
   "metadata": {},
   "outputs": [
    {
     "name": "stdout",
     "output_type": "stream",
     "text": [
      "     Name subject_id  Marks_scored\n",
      "1    Alex       sub1            98\n",
      "2     Amy       sub2            90\n",
      "3   Allen       sub4            87\n",
      "4   Alice       sub6            69\n",
      "5  Ayoung       sub5            78\n",
      "1   Billy       sub2            89\n",
      "2   Brian       sub4            80\n",
      "3    Bran       sub3            79\n",
      "4   Bryce       sub6            97\n",
      "5   Betty       sub5            88\n"
     ]
    }
   ],
   "source": [
    "import pandas as pd \n",
    "one = pd.DataFrame({ 'Name': ['Alex', 'Amy', 'Allen', 'Alice', 'Ayoung'],'subject_id':['sub1','sub2','sub4','sub6','sub5'], 'Marks_scored':[98,90,87,69,78]}, index=[1,2,3,4,5])\n",
    "two = pd.DataFrame({ 'Name': ['Billy', 'Brian', 'Bran', 'Bryce', 'Betty'],'subject_id':['sub2','sub4','sub3','sub6','sub5'],\n",
    "'Marks_scored':[89,80,79,97,88]}, \n",
    "index=[1,2,3,4,5])\n",
    "print (pd.concat([one,two]))\n"
   ]
  },
  {
   "cell_type": "code",
   "execution_count": 8,
   "id": "3dcd4390",
   "metadata": {},
   "outputs": [
    {
     "name": "stdout",
     "output_type": "stream",
     "text": [
      "The Original Data frame is: \n",
      "\n",
      "   Attendance  Obtained Marks\n",
      "0          60              90\n",
      "1         100              75\n",
      "2          80              82\n",
      "3          78              64\n",
      "4          95              45\n",
      "The Rolling Window After Calculation is: \n",
      "\n",
      "   Attendance  Obtained Marks\n",
      "0         NaN             NaN\n",
      "1       160.0           165.0\n",
      "2       180.0           157.0\n",
      "3       158.0           146.0\n",
      "4       173.0           109.0\n"
     ]
    }
   ],
   "source": [
    "import pandas as pd \n",
    "dataframe=pd.DataFrame({'Attendance': {0: 60, 1: 100, 2: 80,3: 78,4: 95}, 'Obtained Marks': {0: 90, 1: 75, 2: 82, 3: 64, 4: 45}})\n",
    "print(\"The Original Data frame is: \\n\") \n",
    "print(dataframe) \n",
    "dataframe1 = dataframe.rolling(2).sum() \n",
    "print(\"The Rolling Window After Calculation is: \\n\")\n",
    "print(dataframe1)\n"
   ]
  },
  {
   "cell_type": "code",
   "execution_count": null,
   "id": "5166b835",
   "metadata": {},
   "outputs": [],
   "source": []
  }
 ],
 "metadata": {
  "kernelspec": {
   "display_name": "Python 3 (ipykernel)",
   "language": "python",
   "name": "python3"
  },
  "language_info": {
   "codemirror_mode": {
    "name": "ipython",
    "version": 3
   },
   "file_extension": ".py",
   "mimetype": "text/x-python",
   "name": "python",
   "nbconvert_exporter": "python",
   "pygments_lexer": "ipython3",
   "version": "3.9.7"
  }
 },
 "nbformat": 4,
 "nbformat_minor": 5
}
