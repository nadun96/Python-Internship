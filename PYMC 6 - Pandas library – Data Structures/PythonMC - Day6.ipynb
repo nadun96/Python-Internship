{
 "cells": [
  {
   "cell_type": "code",
   "execution_count": 1,
   "id": "5e4d5fad",
   "metadata": {},
   "outputs": [
    {
     "name": "stdout",
     "output_type": "stream",
     "text": [
      "10    p\n",
      "11    q\n",
      "12    r\n",
      "13    s\n",
      "dtype: object\n"
     ]
    }
   ],
   "source": [
    "import pandas as pd\n",
    "import numpy as np\n",
    "hj = np.array(['p','q','r','s'])\n",
    "fg = pd.Series(hj,index=[10,11,12,13])\n",
    "print(fg)"
   ]
  },
  {
   "cell_type": "code",
   "execution_count": 2,
   "id": "b3c58a13",
   "metadata": {},
   "outputs": [
    {
     "name": "stdout",
     "output_type": "stream",
     "text": [
      "a    0.0\n",
      "b    1.0\n",
      "c    2.0\n",
      "d    3.0\n",
      "dtype: float64\n"
     ]
    }
   ],
   "source": [
    "import pandas as pd\n",
    "fg = {'a':0.,'b':1.,'c':2.,'d':3.}\n",
    "ser2 = pd.Series(fg)\n",
    "print(ser2)"
   ]
  },
  {
   "cell_type": "code",
   "execution_count": 4,
   "id": "680cd68d",
   "metadata": {},
   "outputs": [
    {
     "name": "stdout",
     "output_type": "stream",
     "text": [
      "rk1    NaN\n",
      "p      1.0\n",
      "q      2.0\n",
      "r      3.0\n",
      "dtype: float64\n"
     ]
    }
   ],
   "source": [
    "import pandas as pd\n",
    "hjk = {'p':1.,'q':2.,'r':3.,'t':4.}\n",
    "ser3 = pd.Series(hjk,index=['rk1','p','q','r'])\n",
    "print(ser3)"
   ]
  },
  {
   "cell_type": "code",
   "execution_count": 5,
   "id": "b7a480df",
   "metadata": {},
   "outputs": [
    {
     "name": "stdout",
     "output_type": "stream",
     "text": [
      "pl1    8\n",
      "pl2    8\n",
      "pl3    8\n",
      "pl4    8\n",
      "dtype: int64\n"
     ]
    }
   ],
   "source": [
    "import pandas as pd\n",
    "ser3 = pd.Series(8,index=[\"pl1\",\"pl2\",\"pl3\",\"pl4\"])\n",
    "print(ser3)"
   ]
  },
  {
   "cell_type": "code",
   "execution_count": 7,
   "id": "42d124b0",
   "metadata": {},
   "outputs": [
    {
     "name": "stdout",
     "output_type": "stream",
     "text": [
      "3\n"
     ]
    }
   ],
   "source": [
    "import pandas as pd\n",
    "ser4 = pd.Series([1,2,3,5])\n",
    "print(ser4[2])"
   ]
  },
  {
   "cell_type": "code",
   "execution_count": 10,
   "id": "611c8bc7",
   "metadata": {},
   "outputs": [
    {
     "name": "stdout",
     "output_type": "stream",
     "text": [
      "3    15\n",
      "4    16\n",
      "dtype: int64\n"
     ]
    }
   ],
   "source": [
    "import pandas as pd\n",
    "fg = pd.Series([12,13,14,15,16])\n",
    "print(fg[-2:])"
   ]
  },
  {
   "cell_type": "code",
   "execution_count": 13,
   "id": "572edcf1",
   "metadata": {},
   "outputs": [
    {
     "name": "stdout",
     "output_type": "stream",
     "text": [
      "p    36\n",
      "o    34\n",
      "k    37\n",
      "dtype: int64\n"
     ]
    }
   ],
   "source": [
    "import pandas as pd\n",
    "jk = pd.Series([34,35,36,37],index=['o','l','p','k'])\n",
    "print(jk[['p','o','k']])"
   ]
  },
  {
   "cell_type": "code",
   "execution_count": 14,
   "id": "c1965227",
   "metadata": {},
   "outputs": [
    {
     "name": "stdout",
     "output_type": "stream",
     "text": [
      "Empty DataFrame\n",
      "Columns: []\n",
      "Index: []\n"
     ]
    }
   ],
   "source": [
    "import pandas as pd\n",
    "df1 = pd.DataFrame()\n",
    "print(df1)"
   ]
  },
  {
   "cell_type": "code",
   "execution_count": 18,
   "id": "e59aa429",
   "metadata": {},
   "outputs": [
    {
     "name": "stdout",
     "output_type": "stream",
     "text": [
      "    Name  Age\n",
      "0   John   34\n",
      "1    Sam   45\n",
      "2  Peter   67\n"
     ]
    }
   ],
   "source": [
    "import pandas as pd\n",
    "dict4 = {'Name':['John','Sam','Peter'],'Age':[34,45,67]}\n",
    "df2 = pd.DataFrame(dict4)\n",
    "print(df2)"
   ]
  },
  {
   "cell_type": "code",
   "execution_count": null,
   "id": "a7f44140",
   "metadata": {},
   "outputs": [],
   "source": []
  }
 ],
 "metadata": {
  "kernelspec": {
   "display_name": "Python 3 (ipykernel)",
   "language": "python",
   "name": "python3"
  },
  "language_info": {
   "codemirror_mode": {
    "name": "ipython",
    "version": 3
   },
   "file_extension": ".py",
   "mimetype": "text/x-python",
   "name": "python",
   "nbconvert_exporter": "python",
   "pygments_lexer": "ipython3",
   "version": "3.9.7"
  }
 },
 "nbformat": 4,
 "nbformat_minor": 5
}
